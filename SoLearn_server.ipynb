{
 "cells": [
  {
   "cell_type": "code",
   "execution_count": null,
   "id": "e85b2443",
   "metadata": {
    "scrolled": true
   },
   "outputs": [],
   "source": [
    "!pip install -q flwr[simulation] flwr_datasets[vision] torch torchvision matplotlib"
   ]
  },
  {
   "cell_type": "code",
   "execution_count": 48,
   "id": "6beb3cb7-4c81-48d7-be86-c18fd39dfdd7",
   "metadata": {},
   "outputs": [],
   "source": [
    "#!pip install flwr_datasets[vision]\n"
   ]
  },
  {
   "cell_type": "code",
   "execution_count": 66,
   "id": "07d810f9",
   "metadata": {},
   "outputs": [
    {
     "name": "stdout",
     "output_type": "stream",
     "text": [
      "Training on cpu using PyTorch 2.1.2+cu121 and Flower 1.6.0\n"
     ]
    }
   ],
   "source": [
    "from collections import OrderedDict\n",
    "from typing import List, Tuple\n",
    "\n",
    "import matplotlib.pyplot as plt\n",
    "import numpy as np\n",
    "import torch\n",
    "import torch.nn as nn\n",
    "import torch.nn.functional as F\n",
    "import torchvision\n",
    "import torchvision.transforms as transforms\n",
    "from torch.utils.data import DataLoader, random_split\n",
    "from torchvision.datasets import MNIST\n",
    "\n",
    "import flwr as fl\n",
    "from flwr.common import Metrics\n",
    "\n",
    "DEVICE = torch.device(\"cpu\")  # Try \"cuda\" to train on GPU\n",
    "print(\n",
    "    f\"Training on {DEVICE} using PyTorch {torch.__version__} and Flower {fl.__version__}\"\n",
    ")"
   ]
  },
  {
   "cell_type": "markdown",
   "id": "12892709",
   "metadata": {},
   "source": [
    "# CIFAR 10 DATASET"
   ]
  },
  {
   "cell_type": "code",
   "execution_count": 67,
   "id": "f7a778ea-ad18-41b3-97b2-640456f70faf",
   "metadata": {},
   "outputs": [],
   "source": [
    "# we naturally first need to import torch and torchvision\n",
    "import torch\n",
    "from torch.utils.data import DataLoader\n",
    "from torchvision.transforms import ToTensor, Normalize, Compose\n",
    "from torchvision.datasets import CIFAR10\n",
    "\n",
    "\n",
    "def get_mnist(data_path: str = \"./data\"):\n",
    "    \"\"\"This function downloads the MNIST dataset into the `data_path`\n",
    "    directory if it is not there already. WE construct the train/test\n",
    "    split by converting the images into tensors and normalising them\"\"\"\n",
    "\n",
    "    # transformation to convert images to tensors and apply normalisation\n",
    "    tr = Compose([ToTensor(), Normalize((0.1307,), (0.3081,))])\n",
    "\n",
    "    # prepare train and test set\n",
    "    trainset = MNIST(data_path, train=True, download=True, transform=tr)\n",
    "    testset = MNIST(data_path, train=False, download=True, transform=tr)\n",
    "\n",
    "    return trainset, testset"
   ]
  },
  {
   "cell_type": "code",
   "execution_count": 68,
   "id": "320c4dbd-e9cb-4705-82f3-01c2a3016f4b",
   "metadata": {},
   "outputs": [
    {
     "name": "stdout",
     "output_type": "stream",
     "text": [
      "Downloading http://yann.lecun.com/exdb/mnist/train-images-idx3-ubyte.gz\n",
      "Downloading http://yann.lecun.com/exdb/mnist/train-images-idx3-ubyte.gz to ./data/MNIST/raw/train-images-idx3-ubyte.gz\n"
     ]
    },
    {
     "name": "stderr",
     "output_type": "stream",
     "text": [
      "100%|██████████████████████████████████████████████████████████████████████████████████████████████████████████████████████████████████████████████████████████████| 9912422/9912422 [00:00<00:00, 17336222.41it/s]\n"
     ]
    },
    {
     "name": "stdout",
     "output_type": "stream",
     "text": [
      "Extracting ./data/MNIST/raw/train-images-idx3-ubyte.gz to ./data/MNIST/raw\n",
      "\n",
      "Downloading http://yann.lecun.com/exdb/mnist/train-labels-idx1-ubyte.gz\n",
      "Downloading http://yann.lecun.com/exdb/mnist/train-labels-idx1-ubyte.gz to ./data/MNIST/raw/train-labels-idx1-ubyte.gz\n"
     ]
    },
    {
     "name": "stderr",
     "output_type": "stream",
     "text": [
      "100%|██████████████████████████████████████████████████████████████████████████████████████████████████████████████████████████████████████████████████████████████████| 28881/28881 [00:00<00:00, 20785122.48it/s]"
     ]
    },
    {
     "name": "stdout",
     "output_type": "stream",
     "text": [
      "Extracting ./data/MNIST/raw/train-labels-idx1-ubyte.gz to ./data/MNIST/raw\n",
      "\n",
      "Downloading http://yann.lecun.com/exdb/mnist/t10k-images-idx3-ubyte.gz\n"
     ]
    },
    {
     "name": "stderr",
     "output_type": "stream",
     "text": [
      "\n"
     ]
    },
    {
     "name": "stdout",
     "output_type": "stream",
     "text": [
      "Downloading http://yann.lecun.com/exdb/mnist/t10k-images-idx3-ubyte.gz to ./data/MNIST/raw/t10k-images-idx3-ubyte.gz\n"
     ]
    },
    {
     "name": "stderr",
     "output_type": "stream",
     "text": [
      "100%|██████████████████████████████████████████████████████████████████████████████████████████████████████████████████████████████████████████████████████████████| 1648877/1648877 [00:00<00:00, 15820950.96it/s]"
     ]
    },
    {
     "name": "stdout",
     "output_type": "stream",
     "text": [
      "Extracting ./data/MNIST/raw/t10k-images-idx3-ubyte.gz to ./data/MNIST/raw\n"
     ]
    },
    {
     "name": "stderr",
     "output_type": "stream",
     "text": [
      "\n"
     ]
    },
    {
     "name": "stdout",
     "output_type": "stream",
     "text": [
      "\n",
      "Downloading http://yann.lecun.com/exdb/mnist/t10k-labels-idx1-ubyte.gz\n",
      "Downloading http://yann.lecun.com/exdb/mnist/t10k-labels-idx1-ubyte.gz to ./data/MNIST/raw/t10k-labels-idx1-ubyte.gz\n"
     ]
    },
    {
     "name": "stderr",
     "output_type": "stream",
     "text": [
      "100%|█████████████████████████████████████████████████████████████████████████████████████████████████████████████████████████████████████████████████████████████████████| 4542/4542 [00:00<00:00, 3414073.26it/s]"
     ]
    },
    {
     "name": "stdout",
     "output_type": "stream",
     "text": [
      "Extracting ./data/MNIST/raw/t10k-labels-idx1-ubyte.gz to ./data/MNIST/raw\n",
      "\n"
     ]
    },
    {
     "name": "stderr",
     "output_type": "stream",
     "text": [
      "\n"
     ]
    }
   ],
   "source": [
    "trainset, testset = get_mnist()"
   ]
  },
  {
   "cell_type": "code",
   "execution_count": 69,
   "id": "8bf701f9-d8bc-4f10-9970-cc9a5850d9da",
   "metadata": {},
   "outputs": [
    {
     "data": {
      "text/plain": [
       "Text(0.5, 1.0, 'Class labels distribution for MNIST')"
      ]
     },
     "execution_count": 69,
     "metadata": {},
     "output_type": "execute_result"
    },
    {
     "data": {
      "image/png": "[encoded data removed]",
      "text/plain": [
       "<Figure size 640x480 with 1 Axes>"
      ]
     },
     "metadata": {},
     "output_type": "display_data"
    }
   ],
   "source": [
    "import matplotlib.pyplot as plt\n",
    "\n",
    "\n",
    "# construct histogram\n",
    "all_labels = trainset.targets\n",
    "num_possible_labels = len(\n",
    "    set(all_labels.numpy().tolist())\n",
    ")  # this counts unique labels (so it should be = 10)\n",
    "plt.hist(all_labels, bins=num_possible_labels)\n",
    "\n",
    "# plot formatting\n",
    "plt.xticks(range(num_possible_labels))\n",
    "plt.grid()\n",
    "plt.xlabel(\"Label\")\n",
    "plt.ylabel(\"Number of images\")\n",
    "plt.title(\"Class labels distribution for MNIST\")"
   ]
  },
  {
   "cell_type": "code",
   "execution_count": 70,
   "id": "0a7a5b52-d45a-48a4-970c-48e563a93bc5",
   "metadata": {},
   "outputs": [],
   "source": [
    "import random\n",
    "import numpy as np\n",
    "\n",
    "\n",
    "def visualise_n_random_examples(trainset_, n: int, verbose: bool = True):\n",
    "    # take n examples at random\n",
    "    idx = list(range(len(trainset_.data)))\n",
    "    random.shuffle(idx)\n",
    "    idx = idx[:n]\n",
    "    if verbose:\n",
    "        print(f\"will display images with idx: {idx}\")\n",
    "\n",
    "    # construct canvas\n",
    "    num_cols = 8\n",
    "    num_rows = int(np.ceil(len(idx) / num_cols))\n",
    "    fig, axs = plt.subplots(figsize=(16, num_rows * 2), nrows=num_rows, ncols=num_cols)\n",
    "\n",
    "    # display images on canvas\n",
    "    for c_i, i in enumerate(idx):\n",
    "        axs.flat[c_i].imshow(trainset_.data[i], cmap=\"gray\")"
   ]
  },
  {
   "cell_type": "code",
   "execution_count": 71,
   "id": "41563dbe-0d89-4db5-958c-5ddc865d017e",
   "metadata": {},
   "outputs": [
    {
     "name": "stdout",
     "output_type": "stream",
     "text": [
      "will display images with idx: [20624, 53460, 10798, 37780, 37229, 7555, 45045, 57068, 19224, 11742, 57064, 28302, 20588, 57836, 10692, 7742, 32108, 5305, 42757, 49448, 30816, 15555, 20541, 47966, 40235, 53384, 56006, 56131, 18843, 41406, 28459, 18599]\n"
     ]
    },
    {
     "data": {
      "image/png": "[encoded data removed]",
      "text/plain": [
       "<Figure size 1600x800 with 32 Axes>"
      ]
     },
     "metadata": {},
     "output_type": "display_data"
    }
   ],
   "source": [
    "# it is likely that the plot this function will generate looks familiar to other plots you might have generated before\n",
    "# or you might have encountered in other tutorials. So far, we aren't doing anything new, Federated Learning will start soon!\n",
    "visualise_n_random_examples(trainset, n=32)"
   ]
  },
  {
   "cell_type": "code",
   "execution_count": 72,
   "id": "e4e6f4ae-e349-4a09-bdc6-579b7fdac116",
   "metadata": {},
   "outputs": [],
   "source": [
    "import torch.nn as nn\n",
    "import torch.nn.functional as F\n",
    "\n",
    "\n",
    "class Net(nn.Module):\n",
    "    def __init__(self, num_classes: int) -> None:\n",
    "        super(Net, self).__init__()\n",
    "        self.conv1 = nn.Conv2d(1, 6, 5)\n",
    "        self.pool = nn.MaxPool2d(2, 2)\n",
    "        self.conv2 = nn.Conv2d(6, 16, 5)\n",
    "        self.fc1 = nn.Linear(16 * 4 * 4, 120)\n",
    "        self.fc2 = nn.Linear(120, 84)\n",
    "        self.fc3 = nn.Linear(84, num_classes)\n",
    "\n",
    "    def forward(self, x: torch.Tensor) -> torch.Tensor:\n",
    "        x = self.pool(F.relu(self.conv1(x)))\n",
    "        x = self.pool(F.relu(self.conv2(x)))\n",
    "        x = x.view(-1, 16 * 4 * 4)\n",
    "        x = F.relu(self.fc1(x))\n",
    "        x = F.relu(self.fc2(x))\n",
    "        x = self.fc3(x)\n",
    "        return x"
   ]
  },
  {
   "cell_type": "code",
   "execution_count": 73,
   "id": "46bc6e1a-fff7-4859-8940-89da3afa1057",
   "metadata": {},
   "outputs": [
    {
     "name": "stdout",
     "output_type": "stream",
     "text": [
      "num_parameters = 44426\n"
     ]
    }
   ],
   "source": [
    "model = Net(num_classes=10)\n",
    "num_parameters = sum(value.numel() for value in model.state_dict().values())\n",
    "print(f\"{num_parameters = }\")"
   ]
  },
  {
   "cell_type": "code",
   "execution_count": 74,
   "id": "45243dfc-dfcf-4868-9adf-60bd800c04f3",
   "metadata": {},
   "outputs": [],
   "source": [
    "def train(net, trainloader, optimizer, epochs):\n",
    "    \"\"\"Train the network on the training set.\"\"\"\n",
    "    criterion = torch.nn.CrossEntropyLoss()\n",
    "    net.train()\n",
    "    for _ in range(epochs):\n",
    "        for images, labels in trainloader:\n",
    "            optimizer.zero_grad()\n",
    "            loss = criterion(net(images), labels)\n",
    "            loss.backward()\n",
    "            optimizer.step()\n",
    "    return net\n",
    "\n",
    "\n",
    "def test(net, testloader):\n",
    "    \"\"\"Validate the network on the entire test set.\"\"\"\n",
    "    criterion = torch.nn.CrossEntropyLoss()\n",
    "    correct, loss = 0, 0.0\n",
    "    net.eval()\n",
    "    with torch.no_grad():\n",
    "        for images, labels in testloader:\n",
    "            outputs = net(images)\n",
    "            loss += criterion(outputs, labels).item()\n",
    "            _, predicted = torch.max(outputs.data, 1)\n",
    "            correct += (predicted == labels).sum().item()\n",
    "    accuracy = correct / len(testloader.dataset)\n",
    "    return loss, accuracy"
   ]
  },
  {
   "cell_type": "code",
   "execution_count": 77,
   "id": "c51e98cb-d496-4060-ac16-2d08c7f92b11",
   "metadata": {},
   "outputs": [
    {
     "name": "stdout",
     "output_type": "stream",
     "text": [
      "loss = 2.7562995556181704\n",
      "accuracy = 0.9899\n"
     ]
    }
   ],
   "source": [
    "# instantiate the model\n",
    "epochs = 10\n",
    "lr = 0.1\n",
    "momentum = 0.09\n",
    "model = Net(num_classes=10)\n",
    "\n",
    "# define optimiser with hyperparameters supplied\n",
    "optim = torch.optim.SGD(model.parameters(), lr=lr, momentum=momentum)\n",
    "\n",
    "# get dataset and construct a dataloaders\n",
    "trainset, testset = get_mnist()\n",
    "trainloader = DataLoader(trainset, batch_size=64, shuffle=True, num_workers=2)\n",
    "testloader = DataLoader(testset, batch_size=128)\n",
    "\n",
    "# train for the specified number of epochs\n",
    "trained_model = train(model, trainloader, optim, epochs)\n",
    "\n",
    "# training is completed, then evaluate model on the test set\n",
    "loss, accuracy = test(trained_model, testloader)\n",
    "print(f\"{loss = }\")\n",
    "print(f\"{accuracy = }\")"
   ]
  },
  {
   "cell_type": "code",
   "execution_count": 83,
   "id": "27d9e231-bf6a-48b1-b388-299263ed5704",
   "metadata": {},
   "outputs": [],
   "source": [
    "def get_parameters(net) -> List[np.ndarray]:\n",
    "    return [val.cpu().numpy() for _, val in net.state_dict().items()]\n",
    "\n",
    "\n",
    "def set_parameters(net, parameters: List[np.ndarray]):\n",
    "    params_dict = zip(net.state_dict().keys(), parameters)\n",
    "    state_dict = OrderedDict({k: torch.Tensor(v) for k, v in params_dict})\n",
    "    net.load_state_dict(state_dict, strict=True)"
   ]
  },
  {
   "cell_type": "code",
   "execution_count": 84,
   "id": "ddeb6505-0c77-4dbd-b9cf-9487544cfb27",
   "metadata": {},
   "outputs": [],
   "source": [
    "weights = get_parameters(model)"
   ]
  },
  {
   "cell_type": "code",
   "execution_count": 88,
   "id": "dcc6bc3a-2f46-47a1-989c-fc6b8a9a0ea9",
   "metadata": {},
   "outputs": [
    {
     "name": "stdout",
     "output_type": "stream",
     "text": [
      "150\n",
      "6\n",
      "2400\n",
      "16\n",
      "30720\n",
      "120\n",
      "10080\n",
      "84\n",
      "840\n",
      "10\n"
     ]
    }
   ],
   "source": [
    "for i in weights:\n",
    "    print(i.size)"
   ]
  },
  {
   "cell_type": "code",
   "execution_count": 85,
   "id": "262d6583-9e72-4462-afaf-26776821f6ab",
   "metadata": {},
   "outputs": [],
   "source": [
    "set_parameters(model,weights)"
   ]
  },
  {
   "cell_type": "code",
   "execution_count": 92,
   "id": "7a9f4dcb-9cb9-4bf7-aa2b-dbf2a88c6896",
   "metadata": {},
   "outputs": [],
   "source": [
    "i = 1"
   ]
  },
  {
   "cell_type": "code",
   "execution_count": 95,
   "id": "c2688c24-4a5c-4dc9-b50d-9dc4653d4ae4",
   "metadata": {},
   "outputs": [
    {
     "data": {
      "text/plain": [
       "'001'"
      ]
     },
     "execution_count": 95,
     "metadata": {},
     "output_type": "execute_result"
    }
   ],
   "source": [
    " str(i).rjust(3, '0')"
   ]
  },
  {
   "cell_type": "code",
   "execution_count": 97,
   "id": "b2f76595-6d89-4b37-a2b5-3480f626fbbf",
   "metadata": {},
   "outputs": [],
   "source": [
    "for i in range(1,101):\n",
    "    name = \"./onchain/models/MNIST_\" + str(i).rjust(3, '0') + \".npy\"\n",
    "    np.save(name, np.array(weights, dtype=object), allow_pickle=True)"
   ]
  },
  {
   "cell_type": "code",
   "execution_count": 90,
   "id": "e127111d-bf45-424b-8177-ee415a84095d",
   "metadata": {},
   "outputs": [],
   "source": [
    "Loaded_model = np.load('./onchain/models/MNIST.npy', allow_pickle=True)"
   ]
  },
  {
   "cell_type": "code",
   "execution_count": null,
   "id": "0fdff6d9-776c-4f2e-a84d-ca201604605f",
   "metadata": {},
   "outputs": [],
   "source": []
  }
 ],
 "metadata": {
  "kernelspec": {
   "display_name": "Python 3 (ipykernel)",
   "language": "python",
   "name": "python3"
  },
  "language_info": {
   "codemirror_mode": {
    "name": "ipython",
    "version": 3
   },
   "file_extension": ".py",
   "mimetype": "text/x-python",
   "name": "python",
   "nbconvert_exporter": "python",
   "pygments_lexer": "ipython3",
   "version": "3.11.5"
  }
 },
 "nbformat": 4,
 "nbformat_minor": 5
}
